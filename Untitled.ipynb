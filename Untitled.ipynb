{
 "cells": [
  {
   "cell_type": "code",
   "execution_count": 3,
   "id": "50a7d22c-fb65-4b5c-b1f1-e12aaaf637ca",
   "metadata": {},
   "outputs": [
    {
     "name": "stdin",
     "output_type": "stream",
     "text": [
      "Ask away young one.  Can a peach defeat tialung?\n"
     ]
    },
    {
     "data": {
      "text/plain": [
       "'Ah, Tialung? defeat peach a can, young one.'"
      ]
     },
     "execution_count": 3,
     "metadata": {},
     "output_type": "execute_result"
    }
   ],
   "source": [
    "\n",
    "\n",
    "def rearrange_for_oogway(question):\n",
    "    words = question.split()\n",
    "    # Reversing the sentence and adding Oogway's tone\n",
    "    rearranged_question = ' '.join(reversed(words))\n",
    "    return \"Ah, \" + rearranged_question.capitalize() + \", young one.\"\n",
    "questionForOogway = input(\"Ask away young one. \")\n",
    "\n",
    "rearrange_for_oogway(questionForOogway)"
   ]
  },
  {
   "cell_type": "code",
   "execution_count": null,
   "id": "69a0c841-4018-454d-a39b-145cba50d267",
   "metadata": {},
   "outputs": [],
   "source": []
  }
 ],
 "metadata": {
  "kernelspec": {
   "display_name": "Python 3 (ipykernel)",
   "language": "python",
   "name": "python3"
  },
  "language_info": {
   "codemirror_mode": {
    "name": "ipython",
    "version": 3
   },
   "file_extension": ".py",
   "mimetype": "text/x-python",
   "name": "python",
   "nbconvert_exporter": "python",
   "pygments_lexer": "ipython3",
   "version": "3.12.4"
  }
 },
 "nbformat": 4,
 "nbformat_minor": 5
}
